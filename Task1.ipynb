{
 "cells": [
  {
   "cell_type": "code",
   "execution_count": null,
   "id": "9f3b3ffb-6a53-4f08-9e3a-2f37b0a1f98d",
   "metadata": {},
   "outputs": [],
   "source": []
  },
  {
   "cell_type": "code",
   "execution_count": 10,
   "id": "f5b3b18d-24e5-41d2-8de7-5bb9dc906a3d",
   "metadata": {},
   "outputs": [
    {
     "name": "stdout",
     "output_type": "stream",
     "text": [
      "5 is prime: True\n",
      "5 is Armstrong: True\n",
      "5 is palindrome: True\n"
     ]
    }
   ],
   "source": [
    "def is_prime(num):\n",
    "    \"\"\"Checks if a number is prime.\"\"\"\n",
    "    if num <= 1:\n",
    "        return False\n",
    "    for i in range(2, int(num**0.5) + 1):\n",
    "        if num % i == 0:\n",
    "            return False\n",
    "    return True\n",
    "\n",
    "def is_armstrong(num):\n",
    "    \"\"\"Checks if a number is an Armstrong number.\"\"\"\n",
    "    original_num = num\n",
    "    sum_of_powers = 0\n",
    "    num_digits = len(str(num))\n",
    "    while num > 0:\n",
    "        digit = num % 10\n",
    "        sum_of_powers += digit ** num_digits\n",
    "        num //= 10\n",
    "    return sum_of_powers == original_num\n",
    "\n",
    "def is_palindrome(num):\n",
    "    \"\"\"Checks if a number is a palindrome.\"\"\"\n",
    "    return str(num) == str(num)[::-1]\n",
    "# Example Usage:\n",
    "number = 5\n",
    "print(f\"{number} is prime: {is_prime(number)}\")\n",
    "print(f\"{number} is Armstrong: {is_armstrong(number)}\")\n",
    "print(f\"{number} is palindrome: {is_palindrome(number)}\")"
   ]
  },
  {
   "cell_type": "code",
   "execution_count": null,
   "id": "aba49365-4bc8-4f74-8778-76dfccc610fa",
   "metadata": {},
   "outputs": [],
   "source": []
  }
 ],
 "metadata": {
  "kernelspec": {
   "display_name": "Python [conda env:base] *",
   "language": "python",
   "name": "conda-base-py"
  },
  "language_info": {
   "codemirror_mode": {
    "name": "ipython",
    "version": 3
   },
   "file_extension": ".py",
   "mimetype": "text/x-python",
   "name": "python",
   "nbconvert_exporter": "python",
   "pygments_lexer": "ipython3",
   "version": "3.12.7"
  }
 },
 "nbformat": 4,
 "nbformat_minor": 5
}
