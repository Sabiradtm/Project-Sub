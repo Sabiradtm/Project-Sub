{
 "cells": [
  {
   "cell_type": "code",
   "execution_count": null,
   "id": "88405e50-ff9d-4c4f-969d-8961baa7d4a8",
   "metadata": {},
   "outputs": [],
   "source": []
  },
  {
   "cell_type": "code",
   "execution_count": 1,
   "id": "30d82f28-913a-49c9-b644-6829ef06fde6",
   "metadata": {},
   "outputs": [
    {
     "name": "stdin",
     "output_type": "stream",
     "text": [
      "enter the first number: 3\n",
      "enter second number 6\n"
     ]
    },
    {
     "name": "stdout",
     "output_type": "stream",
     "text": [
      "\n",
      "Number before swapping:\n",
      "first number: 3\n",
      "second number: 6\n",
      "\n",
      "Number after swapping:\n",
      "first number: 6\n",
      "second number: 3\n"
     ]
    }
   ],
   "source": [
    "# programm to swap two number\n",
    "import numpy as np\n",
    "a = int(input('enter the first number:'))\n",
    "b = int(input('enter second number'))\n",
    "print(\"\\nNumber before swapping:\")\n",
    "print(\"first number:\", a)\n",
    "print(\"second number:\", b)\n",
    "(a,b) = (b,a)\n",
    "print(\"\\nNumber after swapping:\")\n",
    "print(\"first number:\", a)\n",
    "print(\"second number:\", b)"
   ]
  },
  {
   "cell_type": "code",
   "execution_count": null,
   "id": "a6a7989a-1d7d-4f46-9484-aef56e5ab474",
   "metadata": {},
   "outputs": [],
   "source": []
  }
 ],
 "metadata": {
  "kernelspec": {
   "display_name": "Python [conda env:base] *",
   "language": "python",
   "name": "conda-base-py"
  },
  "language_info": {
   "codemirror_mode": {
    "name": "ipython",
    "version": 3
   },
   "file_extension": ".py",
   "mimetype": "text/x-python",
   "name": "python",
   "nbconvert_exporter": "python",
   "pygments_lexer": "ipython3",
   "version": "3.12.7"
  }
 },
 "nbformat": 4,
 "nbformat_minor": 5
}
