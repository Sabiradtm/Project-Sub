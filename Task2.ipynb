{
 "cells": [
  {
   "cell_type": "code",
   "execution_count": null,
   "id": "43f0a9b2-2262-4ca9-a031-198a54443688",
   "metadata": {},
   "outputs": [],
   "source": [
    "# fabonacci series"
   ]
  },
  {
   "cell_type": "code",
   "execution_count": 3,
   "id": "61d8c6f8-cd28-4765-9bc0-888b5c491743",
   "metadata": {},
   "outputs": [
    {
     "name": "stdout",
     "output_type": "stream",
     "text": [
      "the fibonacci Series are:\n",
      "[0, 1, 1]\n"
     ]
    }
   ],
   "source": [
    "def fibonacci(n):\n",
    "    \"\"\"Generates the Fibonacci sequence up to n terms.\"\"\"\n",
    "    a, b = 0, 1\n",
    "    if n <= 0:\n",
    "        return []\n",
    "    elif n == 1:\n",
    "        return [0]\n",
    "    else:\n",
    "        result = [a, b]\n",
    "        while len(result) < n:\n",
    "            a, b = b, a + b\n",
    "            result.append(b)\n",
    "        return result\n",
    "\n",
    "# Example usage:\n",
    "n = 3\n",
    "fibonacci_sequence = fibonacci(n)\n",
    "print('the fibonacci Series are:')\n",
    "print(fibonacci_sequence) # Output: [0, 1, 1, 2, 3, 5, 8, 13, 21, 34]"
   ]
  },
  {
   "cell_type": "code",
   "execution_count": null,
   "id": "c3ded3f2-e930-47ff-87ee-81210ca51d60",
   "metadata": {},
   "outputs": [],
   "source": []
  }
 ],
 "metadata": {
  "kernelspec": {
   "display_name": "Python [conda env:base] *",
   "language": "python",
   "name": "conda-base-py"
  },
  "language_info": {
   "codemirror_mode": {
    "name": "ipython",
    "version": 3
   },
   "file_extension": ".py",
   "mimetype": "text/x-python",
   "name": "python",
   "nbconvert_exporter": "python",
   "pygments_lexer": "ipython3",
   "version": "3.12.7"
  }
 },
 "nbformat": 4,
 "nbformat_minor": 5
}
